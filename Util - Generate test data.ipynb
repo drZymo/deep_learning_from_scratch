{
 "cells": [
  {
   "cell_type": "code",
   "execution_count": null,
   "metadata": {},
   "outputs": [],
   "source": [
    "import numpy as np\n",
    "from siouxdnn import dense, relu, sigmoid, binary_cross_entropy_loss\n",
    "from siouxdnn import dense_backward, relu_backward, sigmoid_backward, binary_cross_entropy_loss_backward"
   ]
  },
  {
   "cell_type": "markdown",
   "metadata": {},
   "source": [
    "# ReLU"
   ]
  },
  {
   "cell_type": "code",
   "execution_count": null,
   "metadata": {},
   "outputs": [],
   "source": [
    "y_true = (np.random.uniform(0, 1, size=(3, 1)) >= 0.5)*1\n",
    "\n",
    "z1 = np.random.uniform(-1, 1, size=(3, 4))\n",
    "w2 = np.random.uniform(-1, 1, size=(4, 1))\n",
    "b2 = np.random.uniform(-1, 1, size=(1, 1))\n",
    "\n",
    "a1 = relu(z1)\n",
    "z2 = dense(a1, w2, b2)\n",
    "y_pred = sigmoid(z2)\n",
    "loss = binary_cross_entropy_loss(y_true, y_pred)\n",
    "dy_pred = binary_cross_entropy_loss_backward(y_true, y_pred)\n",
    "dz2 = sigmoid_backward(z2, dy_pred)\n",
    "dw2, db2, da1 = dense_backward(a1, w2, dz2)\n",
    "dz1 = relu_backward(z1, da1)\n",
    "\n",
    "print(f'z = np.array({np.array2string(z1, separator=\",\")})')\n",
    "print(f'da = np.array({np.array2string(da1, separator=\",\")})')\n",
    "print(dz1)"
   ]
  },
  {
   "cell_type": "markdown",
   "metadata": {},
   "source": [
    "# Sigmoid"
   ]
  },
  {
   "cell_type": "code",
   "execution_count": null,
   "metadata": {},
   "outputs": [],
   "source": [
    "y_true = (np.random.uniform(0, 1, size=(3, 1)) >= 0.5)*1\n",
    "\n",
    "z1 = np.random.uniform(-1, 1, size=(3, 4))\n",
    "w2 = np.random.uniform(-1, 1, size=(4, 1))\n",
    "b2 = np.random.uniform(-1, 1, size=(1, 1))\n",
    "\n",
    "a1 = sigmoid(z1)\n",
    "z2 = dense(a1, w2, b2)\n",
    "y_pred = sigmoid(z2)\n",
    "loss = binary_cross_entropy_loss(y_true, y_pred)\n",
    "dy_pred = binary_cross_entropy_loss_backward(y_true, y_pred)\n",
    "dz2 = sigmoid_backward(z2, dy_pred)\n",
    "dw2, db2, da1 = dense_backward(a1, w2, dz2)\n",
    "dz1 = sigmoid_backward(z1, da1)\n",
    "\n",
    "print(f'z = np.array({np.array2string(z1, separator=\",\")})')\n",
    "print(f'da = np.array({np.array2string(da1, separator=\",\")})')\n",
    "print(dz1)"
   ]
  },
  {
   "cell_type": "markdown",
   "metadata": {},
   "source": [
    "# Dense"
   ]
  },
  {
   "cell_type": "code",
   "execution_count": null,
   "metadata": {},
   "outputs": [],
   "source": [
    "y_true = (np.random.uniform(0, 1, size=(3, 1)) >= 0.5)*1\n",
    "\n",
    "a0 = np.random.uniform(-1, 1, size=(3, 4))\n",
    "w1 = np.random.uniform(-1, 1, size=(4, 5))\n",
    "b1 = np.random.uniform(-1, 1, size=(1, 5))\n",
    "w2 = np.random.uniform(-1, 1, size=(5, 1))\n",
    "b2 = np.random.uniform(-1, 1, size=(1, 1))\n",
    "\n",
    "z1 = dense(a0, w1, b1)\n",
    "a1 = relu(z1)\n",
    "z2 = dense(a1, w2, b2)\n",
    "a2 = sigmoid(z2)\n",
    "\n",
    "loss = binary_cross_entropy_loss(y_true, a2)\n",
    "da2 = binary_cross_entropy_loss_backward(y_true, a2)\n",
    "\n",
    "dz2 = sigmoid_backward(z2, da2)\n",
    "dw2, db2, da1 = dense_backward(a1, w2, dz2)\n",
    "\n",
    "dz1 = relu_backward(z1, da1)\n",
    "dw1, db1, da0 = dense_backward(a0, w1, dz1)\n",
    "\n",
    "print(f'a_prev = np.array({np.array2string(a0, separator=\",\")})')\n",
    "print(f'dz = np.array({np.array2string(dz1, separator=\",\")})')\n",
    "print(f'w = np.array({np.array2string(w1, separator=\",\")})')\n",
    "\n",
    "print(dw1)\n",
    "print(db1)\n",
    "print(da0)"
   ]
  }
 ],
 "metadata": {
  "kernelspec": {
   "display_name": "Python 3",
   "language": "python",
   "name": "python3"
  },
  "language_info": {
   "codemirror_mode": {
    "name": "ipython",
    "version": 3
   },
   "file_extension": ".py",
   "mimetype": "text/x-python",
   "name": "python",
   "nbconvert_exporter": "python",
   "pygments_lexer": "ipython3",
   "version": "3.7.3"
  }
 },
 "nbformat": 4,
 "nbformat_minor": 2
}
