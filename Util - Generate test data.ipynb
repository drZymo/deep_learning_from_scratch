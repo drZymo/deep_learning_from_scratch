{
 "cells": [
  {
   "cell_type": "code",
   "execution_count": 5,
   "metadata": {},
   "outputs": [],
   "source": [
    "import numpy as np\n",
    "from siouxdnn import dense, relu, sigmoid, binary_cross_entropy_loss\n",
    "from siouxdnn import dense_backward, relu_backward, sigmoid_backward, binary_cross_entropy_loss_backward"
   ]
  },
  {
   "cell_type": "markdown",
   "metadata": {},
   "source": [
    "# ReLU"
   ]
  },
  {
   "cell_type": "code",
   "execution_count": 22,
   "metadata": {},
   "outputs": [
    {
     "name": "stdout",
     "output_type": "stream",
     "text": [
      "z = np.array([[-0.3841685 , 0.96313277, 0.01752332, 0.70375869],\n",
      " [-0.90051653, 0.36881432,-0.87937234,-0.07766394],\n",
      " [ 0.99909255,-0.28151873, 0.21100903, 0.96628448]])\n",
      "da = np.array([[ 0.10135023,-0.09567351, 0.00798541, 0.01288583],\n",
      " [ 0.12338271,-0.11647193, 0.00972135, 0.01568707],\n",
      " [ 0.18808731,-0.17755236, 0.01481944, 0.02391371]])\n",
      "[[ 0.         -0.09567351  0.00798541  0.01288583]\n",
      " [ 0.         -0.11647193  0.          0.        ]\n",
      " [ 0.18808731  0.          0.01481944  0.02391371]]\n"
     ]
    }
   ],
   "source": [
    "y_true = (np.random.uniform(0, 1, size=(3, 1)) >= 0.5)*1\n",
    "\n",
    "z1 = np.random.uniform(-1, 1, size=(3, 4))\n",
    "w2 = np.random.uniform(-1, 1, size=(4, 1))\n",
    "b2 = np.random.uniform(-1, 1, size=(1, 1))\n",
    "\n",
    "a1 = relu(z1)\n",
    "z2 = dense(a1, w2, b2)\n",
    "y_pred = sigmoid(z2)\n",
    "loss = binary_cross_entropy_loss(y_true, y_pred)\n",
    "dy_pred = binary_cross_entropy_loss_backward(y_true, y_pred)\n",
    "dz2 = sigmoid_backward(z2, dy_pred)\n",
    "dw2, db2, da1 = dense_backward(a1, dz2, w2)\n",
    "dz1 = relu_backward(z1, da1)\n",
    "\n",
    "print(f'z = np.array({np.array2string(z1, separator=\",\")})')\n",
    "print(f'da = np.array({np.array2string(da1, separator=\",\")})')\n",
    "print(dz1)"
   ]
  },
  {
   "cell_type": "markdown",
   "metadata": {},
   "source": [
    "# Sigmoid"
   ]
  },
  {
   "cell_type": "code",
   "execution_count": 27,
   "metadata": {},
   "outputs": [
    {
     "name": "stdout",
     "output_type": "stream",
     "text": [
      "z = np.array([[ 0.90145683, 0.35448664, 0.12282405, 0.14473946],\n",
      " [ 0.90185776,-0.83611207,-0.74306445, 0.75256026],\n",
      " [-0.68165728, 0.46613136, 0.22696806,-0.34379635]])\n",
      "da = np.array([[ 0.09298582,-0.13436976, 0.02718292, 0.02473067],\n",
      " [-0.12145152, 0.17550431,-0.03550441,-0.03230145],\n",
      " [-0.15272906, 0.22070212,-0.0446479 ,-0.04062008]])\n",
      "[[ 0.01909686 -0.03255884  0.00677016  0.0061504 ]\n",
      " [-0.02493875  0.03702021 -0.0077554  -0.00703186]\n",
      " [-0.03406903  0.0522837  -0.01101945 -0.00986076]]\n"
     ]
    }
   ],
   "source": [
    "y_true = (np.random.uniform(0, 1, size=(3, 1)) >= 0.5)*1\n",
    "\n",
    "z1 = np.random.uniform(-1, 1, size=(3, 4))\n",
    "w2 = np.random.uniform(-1, 1, size=(4, 1))\n",
    "b2 = np.random.uniform(-1, 1, size=(1, 1))\n",
    "\n",
    "a1 = sigmoid(z1)\n",
    "z2 = dense(a1, w2, b2)\n",
    "y_pred = sigmoid(z2)\n",
    "loss = binary_cross_entropy_loss(y_true, y_pred)\n",
    "dy_pred = binary_cross_entropy_loss_backward(y_true, y_pred)\n",
    "dz2 = sigmoid_backward(z2, dy_pred)\n",
    "dw2, db2, da1 = dense_backward(a1, dz2, w2)\n",
    "dz1 = sigmoid_backward(z1, da1)\n",
    "\n",
    "print(f'z = np.array({np.array2string(z1, separator=\",\")})')\n",
    "print(f'da = np.array({np.array2string(da1, separator=\",\")})')\n",
    "print(dz1)"
   ]
  },
  {
   "cell_type": "markdown",
   "metadata": {},
   "source": [
    "# Dense"
   ]
  },
  {
   "cell_type": "code",
   "execution_count": 77,
   "metadata": {},
   "outputs": [
    {
     "name": "stdout",
     "output_type": "stream",
     "text": [
      "a_prev = np.array([[ 0.35375751,-0.3776729 , 0.32942281,-0.27827347],\n",
      " [-0.93693319,-0.085921  , 0.01547009, 0.80320843],\n",
      " [-0.74478941, 0.22313203,-0.21071294, 0.86850543]])\n",
      "dz = np.array([[ 0.        , 0.03582932, 0.        , 0.05249304,-0.08647048],\n",
      " [ 0.04884253, 0.06242368, 0.11415199, 0.09145607, 0.        ],\n",
      " [ 0.04169974, 0.05329477, 0.09745826, 0.07808142, 0.        ]])\n",
      "w = np.array([[-0.89889975,-0.47854249,-0.52593611,-0.90020105, 0.63363267],\n",
      " [ 0.14985559,-0.36020986,-0.85147906,-0.68566762, 0.1925108 ],\n",
      " [-0.54756299, 0.80574929,-0.81764706,-0.4837164 , 0.66329728],\n",
      " [-0.6358417 ,-0.13549578,-0.08654791, 0.03401955,-0.01993571]])\n",
      "[[-0.07681971 -0.08550531 -0.17953867 -0.12527264 -0.03058958]\n",
      " [ 0.00510795 -0.0070035   0.01193801 -0.01026073  0.03265756]\n",
      " [-0.00803108  0.0015388  -0.01876978  0.00225447 -0.02848535]\n",
      " [ 0.07544718  0.08645567  0.17633087  0.12666501  0.02406244]]\n",
      "[[ 0.09054227  0.15154777  0.21161025  0.22203054 -0.08647048]]\n",
      "[[-0.11919067 -0.06554536 -0.05387793 -0.00134508]\n",
      " [-0.21614243 -0.1750728  -0.11402137 -0.04628258]\n",
      " [-0.18453349 -0.14946993 -0.09734674 -0.03951416]]\n"
     ]
    }
   ],
   "source": [
    "y_true = (np.random.uniform(0, 1, size=(3, 1)) >= 0.5)*1\n",
    "\n",
    "a0 = np.random.uniform(-1, 1, size=(3, 4))\n",
    "w1 = np.random.uniform(-1, 1, size=(4, 5))\n",
    "b1 = np.random.uniform(-1, 1, size=(1, 5))\n",
    "w2 = np.random.uniform(-1, 1, size=(5, 1))\n",
    "b2 = np.random.uniform(-1, 1, size=(1, 1))\n",
    "\n",
    "z1 = dense(a0, w1, b1)\n",
    "a1 = relu(z1)\n",
    "z2 = dense(a1, w2, b2)\n",
    "a2 = sigmoid(z2)\n",
    "\n",
    "loss = binary_cross_entropy_loss(y_true, a2)\n",
    "da2 = binary_cross_entropy_loss_backward(y_true, a2)\n",
    "\n",
    "dz2 = sigmoid_backward(z2, da2)\n",
    "dw2, db2, da1 = dense_backward(a1, dz2, w2)\n",
    "\n",
    "dz1 = relu_backward(z1, da1)\n",
    "dw1, db1, da0 = dense_backward(a0, dz1, w1)\n",
    "\n",
    "print(f'a_prev = np.array({np.array2string(a0, separator=\",\")})')\n",
    "print(f'dz = np.array({np.array2string(dz1, separator=\",\")})')\n",
    "print(f'w = np.array({np.array2string(w1, separator=\",\")})')\n",
    "\n",
    "print(dw1)\n",
    "print(db1)\n",
    "print(da0)"
   ]
  }
 ],
 "metadata": {
  "kernelspec": {
   "display_name": "Python 3",
   "language": "python",
   "name": "python3"
  },
  "language_info": {
   "codemirror_mode": {
    "name": "ipython",
    "version": 3
   },
   "file_extension": ".py",
   "mimetype": "text/x-python",
   "name": "python",
   "nbconvert_exporter": "python",
   "pygments_lexer": "ipython3",
   "version": "3.7.4"
  }
 },
 "nbformat": 4,
 "nbformat_minor": 2
}
