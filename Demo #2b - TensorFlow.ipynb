{
 "cells": [
  {
   "cell_type": "code",
   "execution_count": null,
   "metadata": {},
   "outputs": [],
   "source": [
    "from tensorflow.keras.layers import Input, Dense\n",
    "from tensorflow.keras.models import Model\n",
    "\n",
    "def BuildModel():\n",
    "    x = Input(5)\n",
    "    a1 = Dense(64, activation='relu')(x)\n",
    "    a2 = Dense(64, activation='relu')(a1)\n",
    "    y = Dense(1, activation='sigmoid')(a2)\n",
    "    model = Model(x, y)\n",
    "    model.compile(loss='binary_crossentropy', optimizer='sgd', metrics=['BinaryAccuracy', 'Precision', 'Recall'])\n",
    "    return model"
   ]
  },
  {
   "cell_type": "code",
   "execution_count": null,
   "metadata": {
    "scrolled": false
   },
   "outputs": [],
   "source": [
    "from siouxdnn import load_data, reset_seed, get_metrics\n",
    "X_train, Y_train, X_val, Y_val = load_data()\n",
    "reset_seed()\n",
    "\n",
    "model = BuildModel()\n",
    "\n",
    "result = model.fit(X_train, Y_train, validation_data=(X_val, Y_val), epochs=200, verbose=0)\n",
    "\n",
    "train_losses = result.history['loss']\n",
    "val_losses = result.history['val_loss']\n",
    "accuracy, precision, recall = result.history['val_binary_accuracy'][-1], result.history['val_precision'][-1], result.history['val_recall'][-1]"
   ]
  },
  {
   "cell_type": "code",
   "execution_count": null,
   "metadata": {},
   "outputs": [],
   "source": [
    "import matplotlib.pyplot as plt\n",
    "plt.figure()\n",
    "plt.plot(train_losses)\n",
    "plt.plot(val_losses)\n",
    "plt.show()\n",
    "\n",
    "print(f'accuracy {accuracy:.3f}, precision {precision:.3f}, recall {recall:.3f}')"
   ]
  }
 ],
 "metadata": {
  "kernelspec": {
   "display_name": "Python 3",
   "language": "python",
   "name": "python3"
  },
  "language_info": {
   "codemirror_mode": {
    "name": "ipython",
    "version": 3
   },
   "file_extension": ".py",
   "mimetype": "text/x-python",
   "name": "python",
   "nbconvert_exporter": "python",
   "pygments_lexer": "ipython3",
   "version": "3.7.3"
  }
 },
 "nbformat": 4,
 "nbformat_minor": 2
}
