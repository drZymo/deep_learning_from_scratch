{
 "cells": [
  {
   "cell_type": "markdown",
   "metadata": {},
   "source": [
    "# Exercise #1\n",
    "\n",
    "Welcome to the first exercise in this course. In this and the following exercises we will implement a (small) neural network that can predict the probability of a single condition being true or false, also known binary classification.\n",
    "\n",
    "In this first exercise we will implement the required functions to build a neural network and test their correctness with artificial data. In the next exercises this neural network will be tested and trained with real data.\n",
    "\n",
    "## Imports\n",
    "\n",
    "Before we can start we need to include `NumPy`, the main Python library that we are going to use. This library _\"adds support for large, multi-dimensional arrays and matrices, along with a large collection of high-level mathematical functions to operate on these arrays.\"_ ([source](https://en.wikipedia.org/wiki/NumPy)).\n",
    "\n",
    "To include it execute the next cell by selecting it and either click the `Run` button in the toolbar or press `CTRL+ENTER` on your keyboard."
   ]
  },
  {
   "cell_type": "code",
   "execution_count": null,
   "metadata": {},
   "outputs": [],
   "source": [
    "import numpy as np"
   ]
  },
  {
   "cell_type": "markdown",
   "metadata": {},
   "source": [
    "## Dense\n",
    "\n",
    "Let's build some basic building block which we can use to construct the neural network model.\n",
    "\n",
    "A neural network consists of multiple layers. A layer first computes an intermediate value `z` using the output of the previous layer (`a_prev`) and the weights (`w`) and bias (`b`) of this layer. Remember that we want to implement the following function.\n",
    "\n",
    "$$z_n=a_{n-1} w_n + b_n$$\n",
    "\n",
    "We will call this function `dense` because a layer that is implemented like this is also called a \"dense\" or \"fully connected\" layer, i.e. it uses all its input values, in contrast of a \"sparse\" layer that only uses some of its input. The latter is less commonly used.\n",
    "\n",
    "So implement this function in the code below, between the two commented lines.\n",
    "\n",
    "**Hint**: For multiplying matrices you should use the [np.matmul](https://docs.scipy.org/doc/numpy/reference/generated/numpy.matmul.html) function instead of the `*` operator. The latter is mapped to the [np.multiply](https://docs.scipy.org/doc/numpy/reference/generated/numpy.multiply.html) function that performs an element-wise multiplication, which is not what we want. Note that the addition of the bias value should be done element-wise."
   ]
  },
  {
   "cell_type": "code",
   "execution_count": null,
   "metadata": {},
   "outputs": [],
   "source": [
    "def dense(a_prev, w, b):\n",
    "    #### BEGIN IMPLEMENTATION ####\n",
    "    z = ...\n",
    "    #### END IMPLEMENTATION ####\n",
    "    return z"
   ]
  },
  {
   "cell_type": "markdown",
   "metadata": {},
   "source": [
    "Let's see if you implemented it correctly by feeding it 2 samples of a previous layer that has 4 output units and a weight/bias combination that result in 3 output units."
   ]
  },
  {
   "cell_type": "code",
   "execution_count": null,
   "metadata": {},
   "outputs": [],
   "source": [
    "a_prev = np.array([[0.7443503, 0.25197198, 0.07746765, -0.04006432], [0.82262378, -0.88750386, -0.36685496, 0.84961117]])\n",
    "w = np.array([[-0.23438933, -0.20918998,  0.38962773],\n",
    "              [ 0.05811497, -0.4372891 ,  0.4132518 ],\n",
    "              [-0.00410555, -0.25582833, -0.0910004 ],\n",
    "              [ 0.33127268,  0.43464842,  0.40134338]])\n",
    "b = np.array([[0.56929805, -0.53694105, -0.37223993]])\n",
    "\n",
    "print(dense(a_prev, w, b))"
   ]
  },
  {
   "cell_type": "markdown",
   "metadata": {},
   "source": [
    "The output should be equal to \n",
    "\n",
    "    [[ 0.39588336 -0.84006859 -0.00122167]\n",
    "     [ 0.60786566  0.14220411 -0.04411569]]\n",
    "\n",
    "If this is not the case, then check your implementation."
   ]
  },
  {
   "cell_type": "markdown",
   "metadata": {},
   "source": [
    "## Activations\n",
    "\n",
    "Next up are the activation functions. For our network we need the functions ReLU and Sigmoid.\n",
    "\n",
    "The ReLU activation function is defined as:\n",
    "\n",
    "$$g(z) = \\begin{cases} z, & z \\gt 0 \\\\ 0, & z \\le 0 \\end{cases}$$\n",
    "\n",
    "And the sigmoid function is defined as:\n",
    "\n",
    "$$g(z) = \\frac{1}{1 + e^{-z}} $$\n",
    "\n",
    "**Hint** You might need the functions [np.maximum](https://docs.scipy.org/doc/numpy/reference/generated/numpy.maximum.html) and [np.exp](https://docs.scipy.org/doc/numpy/reference/generated/numpy.exp.html)."
   ]
  },
  {
   "cell_type": "code",
   "execution_count": null,
   "metadata": {},
   "outputs": [],
   "source": [
    "def relu(z):\n",
    "    #### BEGIN IMPLEMENTATION ####\n",
    "    a = \n",
    "    #### END IMPLEMENTATION ####\n",
    "    return a\n",
    "\n",
    "def sigmoid(z):\n",
    "    #### BEGIN IMPLEMENTATION ####\n",
    "    a = \n",
    "    #### END IMPLEMENTATION ####\n",
    "    return a"
   ]
  },
  {
   "cell_type": "markdown",
   "metadata": {},
   "source": [
    "Let's see if you implemented them correctly by feeding them the output of the previous `dense` function."
   ]
  },
  {
   "cell_type": "code",
   "execution_count": null,
   "metadata": {},
   "outputs": [],
   "source": [
    "z = np.array([[0.39588336, -0.84006859, -0.00122167], [0.60786566, 0.14220411, -0.04411569]])\n",
    "print(sigmoid(z))\n",
    "print(relu(z))"
   ]
  },
  {
   "cell_type": "markdown",
   "metadata": {},
   "source": [
    "The output should be equal to\n",
    "\n",
    "    [[0.59769819 0.30152034 0.49969458]\n",
    "     [0.64745378 0.53549124 0.48897287]]\n",
    "    [[0.39588336 0.         0.        ]\n",
    "     [0.60786566 0.14220411 0.        ]]\n",
    "\n",
    "If this is not the case, then check your implementation before you continue to the next part."
   ]
  },
  {
   "cell_type": "markdown",
   "metadata": {},
   "source": [
    "## Model\n",
    "\n",
    "With these functions we can now build our neural network model. We will create a model with 3 layers. Two \"hidden\" layers both with 64 units that use the ReLU activation function and an output layer with 1 unit that uses the Sigmoid activation function.\n",
    "\n",
    "![model architecture](figures/model.png \"Model architecture\")\n",
    "\n",
    "The Sigmoid function in the output layer will make sure the (single) output value is always between 0 and 1, representing the probability of the condition being `true` (i.e. prob >= 0.5) or `false`.\n",
    "\n",
    "The model is build as a class with a constructor to initialize the parameters and a single `predict` function to compute the output value.\n",
    "\n",
    "#### Constructor\n",
    "During initialization of the model (i.e. in the constructor) the weights and biases of all layers must be initialized. The weights must be initialized with a matrix (of the right shape) with uniform random values, uniformly distributed within -0.5 and +0.5. The biases must be initialized with only zeros.\n",
    "\n",
    "You might need the functions [np.zeros](https://docs.scipy.org/doc/numpy/reference/generated/numpy.zeros.html) and [np.random.uniform](https://docs.scipy.org/doc/numpy/reference/generated/numpy.random.uniform.html). Be aware that `np.zeros` requires a single parameter, a tuple, to define the size (i.e. shape) of the tensor.\n",
    "\n",
    "#### Predict\n",
    "\n",
    "In the `predict` function you should stack up all the computations to so it results in a single prediction.\n",
    "\n",
    "Here you should use the previously implemented `dense`, `relu` and `sigmoid` functions."
   ]
  },
  {
   "cell_type": "code",
   "execution_count": null,
   "metadata": {},
   "outputs": [],
   "source": [
    "class Model(object):\n",
    "    def __init__(self):\n",
    "        N0, N1, N2, N3 = 5, 64, 64, 1\n",
    "        #### BEGIN IMPLEMENTATION ####\n",
    "        self.w1 = \n",
    "        self.b1 = \n",
    "        self.w2 = \n",
    "        self.b2 = \n",
    "        self.w3 = \n",
    "        self.b3 = \n",
    "        #### END IMPLEMENTATION ####\n",
    "\n",
    "    def predict(self, x):\n",
    "        a0 = x\n",
    "        #### BEGIN IMPLEMENTATION ####\n",
    "        z1 = \n",
    "        a1 = \n",
    "        z2 = \n",
    "        a2 = \n",
    "        z3 = \n",
    "        a3 = \n",
    "        #### END IMPLEMENTATION ####\n",
    "        return a3        "
   ]
  },
  {
   "cell_type": "markdown",
   "metadata": {},
   "source": [
    "## Predict"
   ]
  },
  {
   "cell_type": "markdown",
   "metadata": {},
   "source": [
    "Let's see if you implemented everything correctly by predicting a value for two samples."
   ]
  },
  {
   "cell_type": "code",
   "execution_count": null,
   "metadata": {},
   "outputs": [],
   "source": [
    "from siouxdnn import reset_seed\n",
    "x = np.array([[-0.64863997, -0.52876784,  0.18748115, -0.8999688 , -0.40311535],\n",
    "              [-0.58094129, -0.68657316, -0.46113119, -0.34206706,  0.08281399]])\n",
    "reset_seed()\n",
    "model = Model()\n",
    "y_pred = model.predict(x)\n",
    "print(y_pred)"
   ]
  },
  {
   "cell_type": "markdown",
   "metadata": {},
   "source": [
    "Output should be equal to\n",
    "\n",
    "    [[0.28766463]\n",
    "     [0.42664955]]\n",
    "\n",
    "Check your implementation if this is not the case."
   ]
  },
  {
   "cell_type": "markdown",
   "metadata": {},
   "source": [
    "This concludes the forward propagation part of the model. You have now implemented a neural network that can, given one or more input vectors, predict a probability where a certain condition is true. A binary classifier."
   ]
  }
 ],
 "metadata": {
  "kernelspec": {
   "display_name": "Python 3",
   "language": "python",
   "name": "python3"
  },
  "language_info": {
   "codemirror_mode": {
    "name": "ipython",
    "version": 3
   },
   "file_extension": ".py",
   "mimetype": "text/x-python",
   "name": "python",
   "nbconvert_exporter": "python",
   "pygments_lexer": "ipython3",
   "version": "3.7.4"
  }
 },
 "nbformat": 4,
 "nbformat_minor": 2
}
