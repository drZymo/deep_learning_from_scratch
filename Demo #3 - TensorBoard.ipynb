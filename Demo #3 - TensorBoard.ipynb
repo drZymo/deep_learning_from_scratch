{
 "cells": [
  {
   "cell_type": "code",
   "execution_count": null,
   "metadata": {
    "scrolled": false
   },
   "outputs": [],
   "source": [
    "from tensorflow.keras.layers import Input, Dense\n",
    "from tensorflow.keras.models import Model\n",
    "from tensorflow.keras.callbacks import TensorBoard\n",
    "\n",
    "from siouxdnn import load_data, reset_seed\n",
    "X_train, Y_train, X_val, Y_val = load_data()\n",
    "reset_seed()\n",
    "\n",
    "x = Input(5)\n",
    "a1 = Dense(64, activation='relu')(x)\n",
    "a2 = Dense(64, activation='relu')(a1)\n",
    "y = Dense(1, activation='sigmoid')(a2)\n",
    "model = Model(x, y)\n",
    "model.compile(loss='binary_crossentropy', optimizer='sgd', metrics=['BinaryAccuracy', 'Precision', 'Recall'])\n",
    "\n",
    "model.fit(X_train, Y_train, validation_data=(X_val, Y_val), epochs=200, verbose=0,\n",
    "                   callbacks=[TensorBoard(log_dir='logs')])"
   ]
  },
  {
   "cell_type": "code",
   "execution_count": null,
   "metadata": {},
   "outputs": [],
   "source": [
    "!tensorboard --logdir logs"
   ]
  },
  {
   "cell_type": "markdown",
   "metadata": {},
   "source": [
    "http://localhost:6006"
   ]
  }
 ],
 "metadata": {
  "kernelspec": {
   "display_name": "Python 3",
   "language": "python",
   "name": "python3"
  },
  "language_info": {
   "codemirror_mode": {
    "name": "ipython",
    "version": 3
   },
   "file_extension": ".py",
   "mimetype": "text/x-python",
   "name": "python",
   "nbconvert_exporter": "python",
   "pygments_lexer": "ipython3",
   "version": "3.7.4"
  }
 },
 "nbformat": 4,
 "nbformat_minor": 2
}
